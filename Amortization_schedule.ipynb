{
 "cells": [
  {
   "cell_type": "code",
   "execution_count": 23,
   "metadata": {},
   "outputs": [],
   "source": [
    "import pandas as pd\n",
    "import re\n",
    "import matplotlib.pyplot as plt"
   ]
  },
  {
   "cell_type": "code",
   "execution_count": 24,
   "metadata": {},
   "outputs": [],
   "source": [
    "# Loan Amount\n",
    "p = 100000\n",
    "Total_Remaining_Balance = p\n",
    "\n",
    "# Interest\n",
    "i = 0.05/12\n",
    "Total_Interest_Paid = 0\n",
    "\n",
    "# number of payments\n",
    "n = 30 * 12"
   ]
  },
  {
   "cell_type": "code",
   "execution_count": 3,
   "metadata": {},
   "outputs": [],
   "source": [
    "#Total_Monthly_Payment = round( p * ((i*(1+i)**n) / (((1+i)**n) - 1)), 2)\n",
    "#print(Total_Monthly_Payment)"
   ]
  },
  {
   "cell_type": "code",
   "execution_count": 4,
   "metadata": {},
   "outputs": [],
   "source": [
    "#Principal_Payment = round(Total_Monthly_Payment - (p * (i)), 2)\n",
    "#print(Principal_Payment)"
   ]
  },
  {
   "cell_type": "code",
   "execution_count": 5,
   "metadata": {},
   "outputs": [],
   "source": [
    "#Interest_Payment = round(Total_Monthly_Payment-Principal_Payment, 2)\n",
    "#print(Interest_Payment)"
   ]
  },
  {
   "cell_type": "code",
   "execution_count": 6,
   "metadata": {},
   "outputs": [],
   "source": [
    "#Total_Interest_Paid = Total_Interest_Paid+Interest_Payment\n",
    "#print(Total_Interest_Paid)"
   ]
  },
  {
   "cell_type": "code",
   "execution_count": 7,
   "metadata": {},
   "outputs": [],
   "source": [
    "#Total_Remaining_Balance = Total_Remaining_Balance - Principal_Payment\n",
    "#print(Total_Remaining_Balance)"
   ]
  },
  {
   "cell_type": "code",
   "execution_count": 25,
   "metadata": {},
   "outputs": [],
   "source": [
    "schedule = {'month': [], 'payment' : [], 'interest' : [], 'principle' : [], 'TIP':[], 'TRB':[]}"
   ]
  },
  {
   "cell_type": "code",
   "execution_count": 28,
   "metadata": {},
   "outputs": [
    {
     "name": "stdout",
     "output_type": "stream",
     "text": [
      "0\n",
      "536.82\n",
      "125.25\n",
      "411.57\n",
      "4555.459999999999\n",
      "98650.44000000002\n",
      "\n",
      "\n",
      "1\n",
      "536.82\n",
      "125.78\n",
      "411.04\n",
      "4966.499999999999\n",
      "98524.66000000002\n",
      "\n",
      "\n",
      "2\n",
      "536.82\n",
      "126.3\n",
      "410.52\n",
      "5377.019999999999\n",
      "98398.36000000002\n",
      "\n",
      "\n",
      "3\n",
      "536.82\n",
      "126.83\n",
      "409.99\n",
      "5787.009999999998\n",
      "98271.53000000001\n",
      "\n",
      "\n",
      "4\n",
      "536.82\n",
      "127.36\n",
      "409.46\n",
      "6196.469999999998\n",
      "98144.17000000001\n",
      "\n",
      "\n"
     ]
    }
   ],
   "source": [
    "for x in range(0,5):\n",
    "\n",
    "        print(x)\n",
    "        \n",
    "        Total_Monthly_Payment = round( p * ((i*(1+i)**n) / (((1+i)**n) - 1)), 2)\n",
    "        print(Total_Monthly_Payment)\n",
    "\n",
    "        Principal_Payment = round(Total_Monthly_Payment - (Total_Remaining_Balance * (i)), 2)\n",
    "        print(Principal_Payment)\n",
    "\n",
    "        Interest_Payment = round(Total_Monthly_Payment-Principal_Payment, 2)\n",
    "        print(Interest_Payment)\n",
    "\n",
    "        Total_Interest_Paid = Total_Interest_Paid+Interest_Payment\n",
    "        print(Total_Interest_Paid)\n",
    "\n",
    "        Total_Remaining_Balance = Total_Remaining_Balance - Principal_Payment\n",
    "        print(Total_Remaining_Balance)\n",
    "\n",
    "        print('\\n')\n"
   ]
  },
  {
   "cell_type": "code",
   "execution_count": 9,
   "metadata": {},
   "outputs": [],
   "source": [
    "for x in range(0,n):\n",
    "        schedule['month'].append(x)\n",
    "        \n",
    "        Total_Monthly_Payment = round( p * ((i*(1+i)**n) / (((1+i)**n) - 1)), 2)\n",
    "        schedule['payment'].append(Total_Monthly_Payment)\n",
    "\n",
    "        Principal_Payment = round(Total_Monthly_Payment - (Total_Remaining_Balance * (i)), 2)\n",
    "        schedule['principle'].append(Principal_Payment)\n",
    "\n",
    "        Interest_Payment = round(Total_Monthly_Payment-Principal_Payment, 2)\n",
    "        schedule['interest'].append(Interest_Payment)\n",
    "\n",
    "        Total_Interest_Paid = Total_Interest_Paid+Interest_Payment\n",
    "        schedule['TIP'].append(Total_Interest_Paid)\n",
    "\n",
    "        Total_Remaining_Balance = Total_Remaining_Balance - Principal_Payment\n",
    "        schedule['TRB'].append(Total_Remaining_Balance)\n"
   ]
  },
  {
   "cell_type": "code",
   "execution_count": 10,
   "metadata": {},
   "outputs": [],
   "source": [
    "#Create a new dataframe\n",
    "df = pd.DataFrame(schedule, columns=['month','principle','interest','payment','TIP', 'TRB'])"
   ]
  },
  {
   "cell_type": "code",
   "execution_count": 11,
   "metadata": {},
   "outputs": [
    {
     "data": {
      "text/html": [
       "<div>\n",
       "<style scoped>\n",
       "    .dataframe tbody tr th:only-of-type {\n",
       "        vertical-align: middle;\n",
       "    }\n",
       "\n",
       "    .dataframe tbody tr th {\n",
       "        vertical-align: top;\n",
       "    }\n",
       "\n",
       "    .dataframe thead th {\n",
       "        text-align: right;\n",
       "    }\n",
       "</style>\n",
       "<table border=\"1\" class=\"dataframe\">\n",
       "  <thead>\n",
       "    <tr style=\"text-align: right;\">\n",
       "      <th></th>\n",
       "      <th>month</th>\n",
       "      <th>principle</th>\n",
       "      <th>interest</th>\n",
       "      <th>payment</th>\n",
       "      <th>TIP</th>\n",
       "      <th>TRB</th>\n",
       "    </tr>\n",
       "  </thead>\n",
       "  <tbody>\n",
       "    <tr>\n",
       "      <th>0</th>\n",
       "      <td>0</td>\n",
       "      <td>120.15</td>\n",
       "      <td>416.67</td>\n",
       "      <td>536.82</td>\n",
       "      <td>416.67</td>\n",
       "      <td>99879.85</td>\n",
       "    </tr>\n",
       "    <tr>\n",
       "      <th>1</th>\n",
       "      <td>1</td>\n",
       "      <td>120.65</td>\n",
       "      <td>416.17</td>\n",
       "      <td>536.82</td>\n",
       "      <td>832.84</td>\n",
       "      <td>99759.20</td>\n",
       "    </tr>\n",
       "    <tr>\n",
       "      <th>2</th>\n",
       "      <td>2</td>\n",
       "      <td>121.16</td>\n",
       "      <td>415.66</td>\n",
       "      <td>536.82</td>\n",
       "      <td>1248.50</td>\n",
       "      <td>99638.04</td>\n",
       "    </tr>\n",
       "    <tr>\n",
       "      <th>3</th>\n",
       "      <td>3</td>\n",
       "      <td>121.66</td>\n",
       "      <td>415.16</td>\n",
       "      <td>536.82</td>\n",
       "      <td>1663.66</td>\n",
       "      <td>99516.38</td>\n",
       "    </tr>\n",
       "    <tr>\n",
       "      <th>4</th>\n",
       "      <td>4</td>\n",
       "      <td>122.17</td>\n",
       "      <td>414.65</td>\n",
       "      <td>536.82</td>\n",
       "      <td>2078.31</td>\n",
       "      <td>99394.21</td>\n",
       "    </tr>\n",
       "    <tr>\n",
       "      <th>...</th>\n",
       "      <td>...</td>\n",
       "      <td>...</td>\n",
       "      <td>...</td>\n",
       "      <td>...</td>\n",
       "      <td>...</td>\n",
       "      <td>...</td>\n",
       "    </tr>\n",
       "    <tr>\n",
       "      <th>355</th>\n",
       "      <td>355</td>\n",
       "      <td>525.77</td>\n",
       "      <td>11.05</td>\n",
       "      <td>536.82</td>\n",
       "      <td>93234.28</td>\n",
       "      <td>2126.36</td>\n",
       "    </tr>\n",
       "    <tr>\n",
       "      <th>356</th>\n",
       "      <td>356</td>\n",
       "      <td>527.96</td>\n",
       "      <td>8.86</td>\n",
       "      <td>536.82</td>\n",
       "      <td>93243.14</td>\n",
       "      <td>1598.40</td>\n",
       "    </tr>\n",
       "    <tr>\n",
       "      <th>357</th>\n",
       "      <td>357</td>\n",
       "      <td>530.16</td>\n",
       "      <td>6.66</td>\n",
       "      <td>536.82</td>\n",
       "      <td>93249.80</td>\n",
       "      <td>1068.24</td>\n",
       "    </tr>\n",
       "    <tr>\n",
       "      <th>358</th>\n",
       "      <td>358</td>\n",
       "      <td>532.37</td>\n",
       "      <td>4.45</td>\n",
       "      <td>536.82</td>\n",
       "      <td>93254.25</td>\n",
       "      <td>535.87</td>\n",
       "    </tr>\n",
       "    <tr>\n",
       "      <th>359</th>\n",
       "      <td>359</td>\n",
       "      <td>534.59</td>\n",
       "      <td>2.23</td>\n",
       "      <td>536.82</td>\n",
       "      <td>93256.48</td>\n",
       "      <td>1.28</td>\n",
       "    </tr>\n",
       "  </tbody>\n",
       "</table>\n",
       "<p>360 rows × 6 columns</p>\n",
       "</div>"
      ],
      "text/plain": [
       "     month  principle  interest  payment       TIP       TRB\n",
       "0        0     120.15    416.67   536.82    416.67  99879.85\n",
       "1        1     120.65    416.17   536.82    832.84  99759.20\n",
       "2        2     121.16    415.66   536.82   1248.50  99638.04\n",
       "3        3     121.66    415.16   536.82   1663.66  99516.38\n",
       "4        4     122.17    414.65   536.82   2078.31  99394.21\n",
       "..     ...        ...       ...      ...       ...       ...\n",
       "355    355     525.77     11.05   536.82  93234.28   2126.36\n",
       "356    356     527.96      8.86   536.82  93243.14   1598.40\n",
       "357    357     530.16      6.66   536.82  93249.80   1068.24\n",
       "358    358     532.37      4.45   536.82  93254.25    535.87\n",
       "359    359     534.59      2.23   536.82  93256.48      1.28\n",
       "\n",
       "[360 rows x 6 columns]"
      ]
     },
     "execution_count": 11,
     "metadata": {},
     "output_type": "execute_result"
    }
   ],
   "source": [
    "df"
   ]
  },
  {
   "cell_type": "code",
   "execution_count": 21,
   "metadata": {},
   "outputs": [
    {
     "data": {
      "image/png": "[encoded data removed]",
      "text/plain": [
       "<Figure size 1080x360 with 1 Axes>"
      ]
     },
     "metadata": {
      "needs_background": "light"
     },
     "output_type": "display_data"
    }
   ],
   "source": [
    "plt.figure(figsize = (15,5))\n",
    "plt.plot(df['month'], df['interest'], df['principle']) #blue, orange\n",
    "plt.show()\n",
    "#this chart would be more useful if I replaced the y value with the amount of clients, but I couldn't figure out how to get that"
   ]
  }
 ],
 "metadata": {
  "interpreter": {
   "hash": "370f412194a76f5206d12fa15a737c78c736423b758eeabf0b02c996f1d51276"
  },
  "kernelspec": {
   "display_name": "Python 3.9.7 ('base')",
   "language": "python",
   "name": "python3"
  },
  "language_info": {
   "codemirror_mode": {
    "name": "ipython",
    "version": 3
   },
   "file_extension": ".py",
   "mimetype": "text/x-python",
   "name": "python",
   "nbconvert_exporter": "python",
   "pygments_lexer": "ipython3",
   "version": "3.9.7"
  },
  "orig_nbformat": 4
 },
 "nbformat": 4,
 "nbformat_minor": 2
}
